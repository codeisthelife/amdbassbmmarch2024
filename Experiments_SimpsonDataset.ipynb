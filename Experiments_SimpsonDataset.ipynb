{
 "cells": [
  {
   "cell_type": "code",
   "execution_count": null,
   "id": "independent-robin",
   "metadata": {},
   "outputs": [],
   "source": [
    "import keras\n",
    "import tensorflow\n",
    "print(\"Tensorflow version \" + tensorflow.__version__)\n",
    "print(\"Keras version \" + tensorflow.keras.__version__)"
   ]
  },
  {
   "cell_type": "code",
   "execution_count": null,
   "id": "former-invite",
   "metadata": {},
   "outputs": [],
   "source": [
    "from keras import Input\n",
    "from keras.applications import VGG19\n",
    "from keras.callbacks import TensorBoard\n",
    "from keras.layers import BatchNormalization, Activation, LeakyReLU, Add, Dense\n",
    "from keras.layers.convolutional import Conv2D, UpSampling2D\n",
    "from keras.models import Model\n",
    "from keras.optimizers import Adam\n",
    "\n",
    "import glob\n",
    "import os\n",
    "\n",
    "import imageio\n",
    "import matplotlib.pyplot as plt\n",
    "import numpy as np\n",
    "import pandas as pd\n",
    "import random\n",
    "\n",
    "from imageio import imread\n",
    "from skimage.transform import resize as imresize\n",
    "\n",
    "from PIL import Image"
   ]
  },
  {
   "cell_type": "code",
   "execution_count": null,
   "id": "arabic-abuse",
   "metadata": {},
   "outputs": [],
   "source": [
    "import cv2\n",
    "from cv2 import rectangle"
   ]
  },
  {
   "cell_type": "code",
   "execution_count": null,
   "id": "mounted-sampling",
   "metadata": {},
   "outputs": [],
   "source": [
    "## Use fixed seeds for random number generators to guarantee reproducible results"
   ]
  },
  {
   "cell_type": "code",
   "execution_count": null,
   "id": "diagnostic-beaver",
   "metadata": {},
   "outputs": [],
   "source": [
    "SEED = 1234\n",
    "random.seed(SEED)\n",
    "np.random.seed(SEED)\n",
    "tensorflow.random.set_seed(SEED)"
   ]
  },
  {
   "cell_type": "code",
   "execution_count": null,
   "id": "consecutive-shelf",
   "metadata": {},
   "outputs": [],
   "source": [
    "## Define some hyper-parameters"
   ]
  },
  {
   "cell_type": "code",
   "execution_count": null,
   "id": "australian-vancouver",
   "metadata": {},
   "outputs": [],
   "source": [
    "##  Let's start with 401 epochs for now, bit keep in mind, that it might be necessary to train more afterwards\n",
    "epochs1 = 401\n",
    "epochs2 = 401\n",
    "epochs3 = 401\n",
    "\n",
    "## Let's start from batch size equals to 8 (due to RAM limits)\n",
    "batch_size = 8\n",
    "\n",
    "## Define the shape of low resolution image (LR)\n",
    "low_resolution_shape = (64, 64, 3)\n",
    "\n",
    "## Define the shape of high resolution image (HR)\n",
    "high_resolution_shape = (256, 256, 3)\n",
    "\n",
    "# For simplicity let's start with Adam\n",
    "common_optimizer1 = Adam(0.0002, 0.5)\n",
    "common_optimizer2 = Adam(0.0002, 0.5)\n",
    "common_optimizer3 = Adam(0.0002, 0.5)"
   ]
  },
  {
   "cell_type": "code",
   "execution_count": null,
   "id": "monthly-migration",
   "metadata": {},
   "outputs": [],
   "source": [
    "## Load and Transform the Data"
   ]
  },
  {
   "cell_type": "code",
   "execution_count": null,
   "id": "exciting-nevada",
   "metadata": {},
   "outputs": [],
   "source": [
    "data_dir = \"/Your data dir/*/*.*\""
   ]
  },
  {
   "cell_type": "code",
   "execution_count": null,
   "id": "frozen-moore",
   "metadata": {},
   "outputs": [],
   "source": [
    "## PSNR - Peak Signal-to-Noise Ratio"
   ]
  },
  {
   "cell_type": "code",
   "execution_count": null,
   "id": "useful-ranking",
   "metadata": {},
   "outputs": [],
   "source": [
    "## PSNR is the ratio between maximum possible power of signal and power of corrupting noise"
   ]
  },
  {
   "cell_type": "code",
   "execution_count": null,
   "id": "behavioral-segment",
   "metadata": {},
   "outputs": [],
   "source": [
    "def calc_psnr(original_image, generated_image):\n",
    "    original_image = tensorflow.convert_to_tensor(original_image, dtype=tensorflow.float32)\n",
    "    generated_image = tensorflow.convert_to_tensor(generated_image, dtype=tensorflow.float32)\n",
    "    psnr = tensorflow.image.psnr(original_image, generated_image, max_val=1.0)\n",
    "    return tensorflow.math.reduce_mean(psnr, axis=None, keepdims=False, name=None)"
   ]
  },
  {
   "cell_type": "code",
   "execution_count": null,
   "id": "fewer-chess",
   "metadata": {},
   "outputs": [],
   "source": [
    "def plot_psnr(psnr, title):\n",
    "    psnr_means = psnr['psnr_quality']\n",
    "    plt.figure(figsize=(10,8))\n",
    "    plt.plot(psnr_means, label=\"PSNR quality: \" + title)\n",
    "    plt.xlabel('Epochs')\n",
    "    plt.ylabel('PSNR')\n",
    "    plt.legend()\n",
    "    plt.show()"
   ]
  },
  {
   "cell_type": "code",
   "execution_count": null,
   "id": "blank-cincinnati",
   "metadata": {},
   "outputs": [],
   "source": [
    "def plot_psnr12(psnr_1, psnr_2, title1, title2):\n",
    "    psnr_1_means = psnr_1['psnr_quality']\n",
    "    psnr_2_means = psnr_2['psnr_quality']\n",
    "    plt.figure(figsize=(10,8))\n",
    "    plt.plot(psnr_1_means, label=\"PSNR quality: \" + title1)\n",
    "    plt.plot(psnr_2_means, label=\"PSNR quality: \" + title2)\n",
    "    plt.xlabel('Epochs')\n",
    "    plt.ylabel('PSNR')\n",
    "    plt.legend()\n",
    "    plt.show()"
   ]
  },
  {
   "cell_type": "code",
   "execution_count": null,
   "id": "substantial-sponsorship",
   "metadata": {},
   "outputs": [],
   "source": [
    "def plot_psnr123(psnr_1, psnr_2, psnr_3, title1, title2, title3):\n",
    "    psnr_1_means = psnr_1['psnr_quality']\n",
    "    psnr_2_means = psnr_2['psnr_quality']\n",
    "    psnr_3_means = psnr_3['psnr_quality']\n",
    "    plt.figure(figsize=(10,8))\n",
    "    plt.plot(psnr_1_means, label=\"PSNR quality: \" + title1)\n",
    "    plt.plot(psnr_2_means, label=\"PSNR quality: \" + title2)\n",
    "    plt.plot(psnr_3_means, label=\"PSNR quality: \" + title3)\n",
    "    plt.xlabel('Epochs')\n",
    "    plt.ylabel('PSNR')\n",
    "    plt.legend()\n",
    "    plt.show()"
   ]
  },
  {
   "cell_type": "code",
   "execution_count": null,
   "id": "arbitrary-breed",
   "metadata": {},
   "outputs": [],
   "source": [
    "## SSIM - Structural Similarity Index"
   ]
  },
  {
   "cell_type": "code",
   "execution_count": null,
   "id": "particular-blocking",
   "metadata": {},
   "outputs": [],
   "source": [
    "## SSIM measures the perceptual difference between two similar images"
   ]
  },
  {
   "cell_type": "code",
   "execution_count": null,
   "id": "impossible-sensitivity",
   "metadata": {},
   "outputs": [],
   "source": [
    "def calc_ssim(original_image, generated_image):\n",
    "    original_image = tensorflow.convert_to_tensor(original_image, dtype=tensorflow.float32)\n",
    "    generated_image = tensorflow.convert_to_tensor(generated_image, dtype=tensorflow.float32)\n",
    "    ssim = tensorflow.image.ssim(original_image, generated_image, max_val=1.0, filter_size=11, filter_sigma=1.5, k1=0.01, k2=0.03)\n",
    "    return tensorflow.math.reduce_mean(ssim, axis=None, keepdims=False, name=None)"
   ]
  },
  {
   "cell_type": "code",
   "execution_count": null,
   "id": "fleet-march",
   "metadata": {},
   "outputs": [],
   "source": [
    "def plot_ssim(ssim, title):\n",
    "    ssim_means = ssim['ssim_quality']\n",
    "    plt.figure(figsize=(10,8))\n",
    "    plt.plot(ssim_means, label=\"SSIM quality: \" + title)\n",
    "    plt.xlabel('Epochs')\n",
    "    plt.ylabel('SSIM')\n",
    "    plt.legend()\n",
    "    plt.show()"
   ]
  },
  {
   "cell_type": "code",
   "execution_count": null,
   "id": "agricultural-chemical",
   "metadata": {},
   "outputs": [],
   "source": [
    "def plot_ssim12(ssim_1, ssim_2, title1, title2):\n",
    "    ssim_1_means = ssim_1['ssim_quality']\n",
    "    ssim_2_means = ssim_2['ssim_quality']\n",
    "    plt.figure(figsize=(10,8))\n",
    "    plt.plot(ssim_1_means, label=\"SSIM quality: \" + title1)\n",
    "    plt.plot(ssim_2_means, label=\"SSIM quality: \" + title2)\n",
    "    plt.xlabel('Epochs')\n",
    "    plt.ylabel('SSIM')\n",
    "    plt.legend()\n",
    "    plt.show()"
   ]
  },
  {
   "cell_type": "code",
   "execution_count": null,
   "id": "roman-yesterday",
   "metadata": {},
   "outputs": [],
   "source": [
    "def plot_ssim123(ssim_1, ssim_2, ssim_3, title1, title2, title3):\n",
    "    ssim_1_means = ssim_1['ssim_quality']\n",
    "    ssim_2_means = ssim_2['ssim_quality']\n",
    "    ssim_3_means = ssim_3['ssim_quality']\n",
    "    plt.figure(figsize=(10,8))\n",
    "    plt.plot(ssim_1_means, label=\"SSIM quality: \" + title1)\n",
    "    plt.plot(ssim_2_means, label=\"SSIM quality: \" + title2)\n",
    "    plt.plot(ssim_3_means, label=\"SSIM quality: \" + title3)\n",
    "    plt.xlabel('Epochs')\n",
    "    plt.ylabel('SSIM')\n",
    "    plt.legend()\n",
    "    plt.show()"
   ]
  },
  {
   "cell_type": "code",
   "execution_count": null,
   "id": "numeric-tissue",
   "metadata": {},
   "outputs": [],
   "source": [
    "##  Loss Functions\n",
    "\n",
    "## MSE = Pixel-by-Pixel Mean Squared Error\n",
    "## MSE works if the goal is to generate a picture having the best pixel colors conformity with the ground truth picture. However, in real-life scenarios it might be necessary to concentrate on the structure or relief of the picture.\n",
    "\n",
    "## Perceptual Loss is a weighted sum of the content loss and adversarial loss\n",
    "\n",
    "## Content Loss can be of two types:\n",
    "## Pixel-wise MSE loss mean squared error between each pixel in real image and a pixel in generated image\n",
    "## VGG loss is the Euclidean distance between the feature maps of the generated image and the real image\n",
    "\n",
    "## Adversarial Loss is calculated based on probabilities provided by Discriminator\n",
    "\n",
    "## Discriminator is trained to solve maximization.\n",
    "## Generator is trained to solve minimization."
   ]
  },
  {
   "cell_type": "code",
   "execution_count": null,
   "id": "biblical-surrey",
   "metadata": {},
   "outputs": [],
   "source": [
    "## Plotting loss, sampling images, saving images"
   ]
  },
  {
   "cell_type": "code",
   "execution_count": null,
   "id": "loose-tuesday",
   "metadata": {},
   "outputs": [],
   "source": [
    "def plot_loss(losses, title):\n",
    "    d_loss = losses['d_history']\n",
    "    g_loss = losses['g_history']\n",
    "    plt.figure(figsize=(10,8))\n",
    "    plt.plot(d_loss, label=\"Discriminator loss: \" + title)\n",
    "    plt.plot(g_loss, label=\"Generator loss: \" + title)\n",
    "    plt.xlabel('Epochs')\n",
    "    plt.ylabel('Loss')\n",
    "    plt.legend()\n",
    "    plt.show()"
   ]
  },
  {
   "cell_type": "code",
   "execution_count": null,
   "id": "spread-fountain",
   "metadata": {},
   "outputs": [],
   "source": [
    "def plot_loss12(losses1, losses2, title1, title2):\n",
    "    d_loss1 = losses1['d_history']\n",
    "    g_loss1 = losses1['g_history']\n",
    "    d_loss2 = losses2['d_history']\n",
    "    g_loss2 = losses2['g_history']\n",
    "    plt.figure(figsize=(10,8))\n",
    "    plt.plot(d_loss1, label=\"Discriminator loss: \" + title1)\n",
    "    plt.plot(g_loss1, label=\"Generator loss: \" + title1)\n",
    "    plt.plot(d_loss2, label=\"Discriminator loss: \" + title2)\n",
    "    plt.plot(g_loss2, label=\"Generator loss: \" + title2)\n",
    "    plt.xlabel('Epochs')\n",
    "    plt.ylabel('Loss')\n",
    "    plt.legend()\n",
    "    plt.show()"
   ]
  },
  {
   "cell_type": "code",
   "execution_count": null,
   "id": "uniform-thing",
   "metadata": {},
   "outputs": [],
   "source": [
    "def plot_loss123(losses1, losses2, losses3, title1, title2, title3):\n",
    "    d_loss1 = losses1['d_history']\n",
    "    g_loss1 = losses1['g_history']\n",
    "    d_loss2 = losses2['d_history']\n",
    "    g_loss2 = losses2['g_history']\n",
    "    d_loss3 = losses3['d_history']\n",
    "    g_loss3 = losses3['g_history']\n",
    "    plt.figure(figsize=(10,8))\n",
    "    plt.plot(d_loss1, label=\"Discriminator loss: \" + title1)\n",
    "    plt.plot(g_loss1, label=\"Generator loss: \" + title1)\n",
    "    plt.plot(d_loss2, label=\"Discriminator loss: \" + title2)\n",
    "    plt.plot(g_loss2, label=\"Generator loss: \" + title2)\n",
    "    plt.plot(d_loss3, label=\"Discriminator loss: \" + title3)\n",
    "    plt.plot(g_loss3, label=\"Generator loss: \" + title3)\n",
    "    plt.xlabel('Epochs')\n",
    "    plt.ylabel('Loss')\n",
    "    plt.legend()\n",
    "    plt.show()"
   ]
  },
  {
   "cell_type": "code",
   "execution_count": null,
   "id": "essential-venue",
   "metadata": {},
   "outputs": [],
   "source": [
    "from PIL import Image"
   ]
  },
  {
   "cell_type": "code",
   "execution_count": null,
   "id": "communist-breakfast",
   "metadata": {},
   "outputs": [],
   "source": [
    "def sample_images(data_dir, batch_size, high_resolution_shape, low_resolution_shape):\n",
    "    ## Create the list of all images, which are inside of data_dir catalogue\n",
    "    all_images = glob.glob(data_dir)\n",
    "    ## Select a random batch with images\n",
    "    images_batch = np.random.choice(all_images, size=batch_size)\n",
    "    low_resolution_images = []\n",
    "    high_resolution_images = []\n",
    "    low_resolution_faces = []\n",
    "    high_resolution_faces = []\n",
    "    for img in images_batch:\n",
    "        img1 = imread(img, as_gray=False, pilmode='RGB')\n",
    "        face = img1[2*img1.shape[0]//5:3*img1.shape[0]//5, 2*img1.shape[1]//5:3*img1.shape[1]//5]\n",
    "        face = face.astype(np.float32)\n",
    "        img1 = img1.astype(np.float32)\n",
    "        img1_high_resolution = imresize(img1, high_resolution_shape)\n",
    "        img1_low_resolution = imresize(img1, low_resolution_shape)\n",
    "        face_high_resolution = imresize(face, high_resolution_shape)\n",
    "        face_low_resolution = imresize(face, low_resolution_shape)\n",
    "        high_resolution_images.append(img1_high_resolution)\n",
    "        low_resolution_images.append(img1_low_resolution)\n",
    "        high_resolution_faces.append(face_high_resolution)\n",
    "        low_resolution_faces.append(face_low_resolution)\n",
    "    ## Convert lists into numpy ndarrays\n",
    "    return np.array(high_resolution_images), np.array(low_resolution_images), np.array(high_resolution_faces), np.array(low_resolution_faces)"
   ]
  },
  {
   "cell_type": "code",
   "execution_count": null,
   "id": "forbidden-cloud",
   "metadata": {},
   "outputs": [],
   "source": [
    "def save_images(low_resolution_image, original_image, generated_image, path):\n",
    "    ## Save low-resolution, high-resolution(original) and generated high-resolution images into one picture\n",
    "    fig = plt.figure()\n",
    "    ax = fig.add_subplot(1, 3, 1)\n",
    "    ax.imshow(original_image)\n",
    "    ax.axis(\"off\")\n",
    "    ax.set_title(\"ORIGINAL\")\n",
    "    ax = fig.add_subplot(1, 3, 2)\n",
    "    ax.imshow(low_resolution_image)\n",
    "    ax.axis(\"off\")\n",
    "    ax.set_title(\"LOW_RESOLUTION\")\n",
    "    ax = fig.add_subplot(1, 3, 3)\n",
    "    ax.imshow(generated_image)\n",
    "    ax.axis(\"off\")\n",
    "    ax.set_title(\"GENERATED\")\n",
    "    plt.savefig(path)"
   ]
  },
  {
   "cell_type": "code",
   "execution_count": null,
   "id": "structural-bobby",
   "metadata": {},
   "outputs": [],
   "source": [
    "## Experiment 1 - SRGAN-VGG19"
   ]
  },
  {
   "cell_type": "code",
   "execution_count": null,
   "id": "permanent-tunnel",
   "metadata": {},
   "outputs": [],
   "source": [
    "## Generator\n",
    "## The code is based on SRGAN implementation with several experimental changes."
   ]
  },
  {
   "cell_type": "code",
   "execution_count": null,
   "id": "wireless-dubai",
   "metadata": {},
   "outputs": [],
   "source": [
    "def residual_block(x):\n",
    "    filters = [64, 64]\n",
    "    kernel_size = 3\n",
    "    strides = 1\n",
    "    padding = \"same\"\n",
    "    momentum = 0.8\n",
    "    activation = \"relu\"\n",
    "    res = Conv2D(filters=filters[0], kernel_size=kernel_size, strides=strides, padding=padding)(x)\n",
    "    res = Activation(activation=activation)(res)\n",
    "    res = BatchNormalization(momentum=momentum)(res)\n",
    "    res = Conv2D(filters=filters[1], kernel_size=kernel_size, strides=strides, padding=padding)(res)\n",
    "    res = BatchNormalization(momentum=momentum)(res)\n",
    "    res = Add()([res, x])\n",
    "    return res"
   ]
  },
  {
   "cell_type": "code",
   "execution_count": null,
   "id": "direct-wheat",
   "metadata": {},
   "outputs": [],
   "source": [
    "def build_generator1():\n",
    "    ## Use 16 residual blocks in generator\n",
    "    residual_blocks = 16\n",
    "    momentum = 0.8\n",
    "    ## Dimension equals to LR - Low Resolution\n",
    "    input_shape = (64, 64, 3)\n",
    "    ## Input layer for the generator network\n",
    "    input_layer = Input(shape=input_shape)\n",
    "    ## Pre-residual block: convolutional layer before residual blocks\n",
    "    gen1 = Conv2D(filters=64, kernel_size=9, strides=1, padding='same', activation='relu')(input_layer)\n",
    "    ## Add 16 residual blocks\n",
    "    res = residual_block(gen1)\n",
    "    for i in range(residual_blocks - 1):\n",
    "        res = residual_block(res)\n",
    "    ## Post-residual block: convolutional layer and batch-norm layer after residual blocks\n",
    "    gen2 = Conv2D(filters=64, kernel_size=3, strides=1, padding='same')(res)\n",
    "    gen2 = BatchNormalization(momentum=momentum)(gen2)\n",
    "    ## Take the sum of pre-residual block(gen1) and post-residual block(gen2)\n",
    "    gen3 = Add()([gen2, gen1])\n",
    "    # UpSampling: learning to increase dimensionality\n",
    "    gen4 = UpSampling2D(size=2)(gen3)\n",
    "    gen4 = Conv2D(filters=256, kernel_size=3, strides=1, padding='same')(gen4)\n",
    "    gen4 = Activation('relu')(gen4)\n",
    "    # UpSampling: learning to increase dimensionality\n",
    "    gen5 = UpSampling2D(size=2)(gen4)\n",
    "    gen5 = Conv2D(filters=256, kernel_size=3, strides=1, padding='same')(gen5)\n",
    "    gen5 = Activation('relu')(gen5)\n",
    "    ## Convolution layer at the output\n",
    "    gen6 = Conv2D(filters=3, kernel_size=9, strides=1, padding='same')(gen5)\n",
    "    output = Activation('tanh')(gen6)\n",
    "    ## Model\n",
    "    model = Model(inputs=[input_layer], outputs=[output], name='generator')\n",
    "    return model"
   ]
  },
  {
   "cell_type": "code",
   "execution_count": null,
   "id": "knowing-mercury",
   "metadata": {},
   "outputs": [],
   "source": [
    "generator1 = build_generator1()"
   ]
  },
  {
   "cell_type": "code",
   "execution_count": null,
   "id": "addressed-penetration",
   "metadata": {},
   "outputs": [],
   "source": [
    "## Discriminator"
   ]
  },
  {
   "cell_type": "code",
   "execution_count": null,
   "id": "convertible-floor",
   "metadata": {},
   "outputs": [],
   "source": [
    "def build_discriminator1():\n",
    "    # define hyper-parameters\n",
    "    leakyrelu_alpha = 0.2\n",
    "    momentum = 0.8\n",
    "    ## Dimentions correspond to HR - High Resolution\n",
    "    input_shape = (256, 256, 3)\n",
    "    ## Input layer for discriminator\n",
    "    input_layer = Input(shape=input_shape)\n",
    "    # 8 convolutional layers with batch normalization\n",
    "    dis1 = Conv2D(filters=64, kernel_size=3, strides=1, padding='same')(input_layer)\n",
    "    dis1 = LeakyReLU(alpha=leakyrelu_alpha)(dis1)\n",
    "    \n",
    "    dis2 = Conv2D(filters=64, kernel_size=3, strides=2, padding='same')(dis1)\n",
    "    dis2 = LeakyReLU(alpha=leakyrelu_alpha)(dis2)\n",
    "    dis2 = BatchNormalization(momentum=momentum)(dis2)\n",
    "    \n",
    "    dis3 = Conv2D(filters=128, kernel_size=3, strides=1, padding='same')(dis2)\n",
    "    dis3 = LeakyReLU(alpha=leakyrelu_alpha)(dis3)\n",
    "    dis3 = BatchNormalization(momentum=momentum)(dis3)\n",
    "    \n",
    "    dis4 = Conv2D(filters=128, kernel_size=3, strides=2, padding='same')(dis3)\n",
    "    dis4 = LeakyReLU(alpha=leakyrelu_alpha)(dis4)\n",
    "    dis4 = BatchNormalization(momentum=0.8)(dis4)\n",
    "    \n",
    "    dis5 = Conv2D(256, kernel_size=3, strides=1, padding='same')(dis4)\n",
    "    dis5 = LeakyReLU(alpha=leakyrelu_alpha)(dis5)\n",
    "    dis5 = BatchNormalization(momentum=momentum)(dis5)\n",
    "    \n",
    "    dis6 = Conv2D(filters=256, kernel_size=3, strides=2, padding='same')(dis5)\n",
    "    dis6 = LeakyReLU(alpha=leakyrelu_alpha)(dis6)\n",
    "    dis6 = BatchNormalization(momentum=momentum)(dis6)\n",
    "    \n",
    "    dis7 = Conv2D(filters=512, kernel_size=3, strides=1, padding='same')(dis6)\n",
    "    dis7 = LeakyReLU(alpha=leakyrelu_alpha)(dis7)\n",
    "    dis7 = BatchNormalization(momentum=momentum)(dis7)\n",
    "    \n",
    "    dis8 = Conv2D(filters=512, kernel_size=3, strides=2, padding='same')(dis7)\n",
    "    dis8 = LeakyReLU(alpha=leakyrelu_alpha)(dis8)\n",
    "    dis8 = BatchNormalization(momentum=momentum)(dis8)\n",
    "    ## Fully-connected layer\n",
    "    dis9 = Dense(units=1024)(dis8)\n",
    "    dis9 = LeakyReLU(alpha=0.2)(dis9)\n",
    "    ## Last fully-connected layer - for classification\n",
    "    output = Dense(units=1, activation='sigmoid')(dis9)\n",
    "    \n",
    "    ## Model\n",
    "    model = Model(inputs=[input_layer], outputs=[output], name='discriminator')\n",
    "    return model"
   ]
  },
  {
   "cell_type": "code",
   "execution_count": null,
   "id": "anonymous-fifteen",
   "metadata": {},
   "outputs": [],
   "source": [
    "discriminator1 = build_discriminator1()\n",
    "discriminator1.trainable = True\n",
    "discriminator1.compile(loss='mse', optimizer=common_optimizer1, metrics=['accuracy'])"
   ]
  },
  {
   "cell_type": "code",
   "execution_count": null,
   "id": "suited-eating",
   "metadata": {},
   "outputs": [],
   "source": [
    "## Feature Extractor based on VGG19"
   ]
  },
  {
   "cell_type": "code",
   "execution_count": null,
   "id": "transsexual-newman",
   "metadata": {},
   "outputs": [],
   "source": [
    "VGG19_base = VGG19(weights=\"imagenet\")"
   ]
  },
  {
   "cell_type": "code",
   "execution_count": null,
   "id": "extended-abraham",
   "metadata": {},
   "outputs": [],
   "source": [
    "from tensorflow.keras.utils import plot_model\n",
    "from IPython.display import Image"
   ]
  },
  {
   "cell_type": "code",
   "execution_count": null,
   "id": "owned-marsh",
   "metadata": {},
   "outputs": [],
   "source": [
    "plot_model(VGG19_base, to_file='vgg19_base1.png', show_shapes=True)\n",
    "Image(filename='vgg19_base1.png')"
   ]
  },
  {
   "cell_type": "code",
   "execution_count": null,
   "id": "trained-hammer",
   "metadata": {},
   "outputs": [],
   "source": [
    "def build_VGG19():\n",
    "    input_shape = (256, 256, 3)\n",
    "    VGG19_base.outputs = [VGG19_base.get_layer('block5_conv2').output]\n",
    "    input_layer = Input(shape=input_shape)\n",
    "    features = VGG19_base(input_layer)\n",
    "    model = Model(inputs=[input_layer], outputs=[features])\n",
    "    return model\n",
    "VGG19 = build_VGG19()\n",
    "VGG19.trainable = False\n",
    "VGG19.compile(loss='mse', optimizer=common_optimizer2, metrics=['accuracy'])"
   ]
  },
  {
   "cell_type": "code",
   "execution_count": null,
   "id": "mathematical-conviction",
   "metadata": {},
   "outputs": [],
   "source": [
    "## SRGAN-VGG19"
   ]
  },
  {
   "cell_type": "code",
   "execution_count": null,
   "id": "million-confidence",
   "metadata": {},
   "outputs": [],
   "source": [
    "def build_adversarial_model_vgg19(generator1, discriminator1, vgg19):\n",
    "    ## Input layer for high-resolution images\n",
    "    input_high_resolution1 = Input(shape=high_resolution_shape)\n",
    "    ## Input layer for low-resolution images\n",
    "    input_low_resolution1 = Input(shape=low_resolution_shape)\n",
    "    ## Generate high-resolution images from low-resolution images\n",
    "    generated_high_resolution_images1 = generator1(input_low_resolution1)\n",
    "    ## Extract feature maps from generated images\n",
    "    features1 = vgg19(generated_high_resolution_images1)\n",
    "    ## Make a discriminator non-trainable\n",
    "    discriminator1.trainable = False\n",
    "    discriminator1.compile(loss='mse', optimizer=common_optimizer1, metrics=['accuracy'])\n",
    "    ## Discriminator will give us a probability estimation for the generated high-resolution images\n",
    "    probs1 = discriminator1(generated_high_resolution_images1)\n",
    "    ## Create and compile\n",
    "    adversarial_model1 = Model([input_low_resolution1, input_high_resolution1], [probs1, features1])\n",
    "    adversarial_model1.compile(loss=['binary_crossentropy', 'mse'], loss_weights=[1e-3, 1], optimizer=common_optimizer1)\n",
    "    return adversarial_model1"
   ]
  },
  {
   "cell_type": "code",
   "execution_count": null,
   "id": "irish-saying",
   "metadata": {},
   "outputs": [],
   "source": [
    "adversarial_model_vgg19 = build_adversarial_model_vgg19(generator1, discriminator1, VGG19)"
   ]
  },
  {
   "cell_type": "code",
   "execution_count": null,
   "id": "assured-fashion",
   "metadata": {},
   "outputs": [],
   "source": [
    "## Training loop with SRGAN-VGG19"
   ]
  },
  {
   "cell_type": "code",
   "execution_count": null,
   "id": "creative-independence",
   "metadata": {},
   "outputs": [],
   "source": [
    "psnr_1 = {'psnr_quality': []}\n",
    "psnr_1_faces = {'psnr_quality': []}\n",
    "\n",
    "ssim_1 = {'ssim_quality': []}\n",
    "ssim_1_faces = {'ssim_quality': []}\n",
    "\n",
    "losses1 = {\"d_history\":[], \"g_history\":[]}"
   ]
  },
  {
   "cell_type": "code",
   "execution_count": null,
   "id": "coordinated-korean",
   "metadata": {},
   "outputs": [],
   "source": [
    "for epoch in range(epochs1):\n",
    "    d_history1 = []\n",
    "    g_history1 = []\n",
    "    ## Print(\"Epoch:{}\".format(epoch))\n",
    "    high_resolution_images, low_resolution_images, high_resolution_faces, low_resolution_faces = sample_images(data_dir=data_dir, batch_size=batch_size, low_resolution_shape=low_resolution_shape, high_resolution_shape=high_resolution_shape)\n",
    "    ## Normalize the images\n",
    "    high_resolution_images = high_resolution_images / 127.5 - 1.\n",
    "    low_resolution_images = low_resolution_images / 127.5 - 1.\n",
    "    high_resolution_faces = high_resolution_faces / 127.5 - 1.\n",
    "    low_resolution_faces = low_resolution_faces / 127.5 - 1.\n",
    "    ## Generate high-resolution images from low-resolution images\n",
    "    generated_high_resolution_images1 = generator1.predict(low_resolution_images)\n",
    "    generated_faces1 = generator1.predict(low_resolution_faces)\n",
    "    ## Generate a batch of true and fake labels\n",
    "    real_labels = np.ones((batch_size, 16, 16, 1))\n",
    "    fake_labels = np.zeros((batch_size, 16, 16, 1))\n",
    "    d_loss_real1 = discriminator1.train_on_batch(high_resolution_images, real_labels)\n",
    "    d_loss_real1 = np.mean(d_loss_real1)\n",
    "    d_loss_fake1 = discriminator1.train_on_batch(generated_high_resolution_images1, fake_labels)\n",
    "    d_loss_fake1 = np.mean(d_loss_fake1)\n",
    "    ## Calculate total loss of discriminator as average loss on true and fake labels\n",
    "    d_loss1 = 0.5 * np.add(d_loss_real1, d_loss_fake1)\n",
    "    losses1['d_history'].append(d_loss1)\n",
    "    ## Print(\"D_loss_1:\", d_loss1)\n",
    "    ## Train the generator\n",
    "    ## Sample the batch with images\n",
    "    high_resolution_images, low_resolution_images, high_resolution_faces, low_resolution_faces = sample_images(data_dir=data_dir, batch_size=batch_size, low_resolution_shape=low_resolution_shape, high_resolution_shape=high_resolution_shape)\n",
    "    ## Normalize the images\n",
    "    high_resolution_images = high_resolution_images / 127.5 - 1.\n",
    "    low_resolution_images = low_resolution_images / 127.5 - 1.\n",
    "    high_resolution_faces = high_resolution_faces / 127.5 - 1.\n",
    "    low_resolution_faces = low_resolution_faces / 127.5 - 1.\n",
    "    ## Extract feature maps for true high-resolution images\n",
    "    image_features1 = VGG19.predict(high_resolution_images)\n",
    "    ## Train the generator\n",
    "    g_loss1 = adversarial_model_vgg19.train_on_batch([low_resolution_images, high_resolution_images], [real_labels, image_features1])\n",
    "    losses1['g_history'].append(0.5 * (g_loss1[1]))\n",
    "    ## Print( \"G_loss_1:\", 0.5 * (g_loss1[1]) )\n",
    "    ## Calculate the psnr per generated and original image and add it to the list\n",
    "    ps_1 = calc_psnr(high_resolution_images, generated_high_resolution_images1)\n",
    "    ## Print(\"PSNR_2:\", np.mean(ps_1.numpy()))\n",
    "    psnr_1['psnr_quality'].append(ps_1)\n",
    "    ps_1 = calc_psnr(high_resolution_faces, generated_faces1)\n",
    "    psnr_1_faces['psnr_quality'].append(ps_1)\n",
    "    ## Calculate the ssim per generated and original image and add it to the list\n",
    "    ss_1 = calc_ssim(high_resolution_images, generated_high_resolution_images1)\n",
    "    ## Print(\"SSIM_2:\", np.mean(ss_1.numpy()))\n",
    "    ssim_1['ssim_quality'].append(ss_1)\n",
    "    ss_1 = calc_psnr(high_resolution_faces, generated_faces1)\n",
    "    ssim_1_faces['ssim_quality'].append(ss_1)\n",
    "    ## Save and print image samples\n",
    "    if (epoch == 50) or (epoch == 100) or (epoch == 150) or (epoch == 200) or (epoch == 250) or (epoch == 300) or (epoch == 350):\n",
    "        high_resolution_images, low_resolution_images, high_resolution_faces, low_resolution_faces = sample_images(data_dir=data_dir, batch_size=batch_size, low_resolution_shape=low_resolution_shape, high_resolution_shape=high_resolution_shape)\n",
    "        ## Normalize the images\n",
    "        high_resolution_images = high_resolution_images / 127.5 - 1.\n",
    "        low_resolution_images = low_resolution_images / 127.5 - 1.\n",
    "        high_resolution_faces = high_resolution_faces / 127.5 - 1.\n",
    "        low_resolution_faces = low_resolution_faces / 127.5 - 1.\n",
    "        generated_images1 = generator1.predict_on_batch(low_resolution_images)\n",
    "        generated_faces1 = generator1.predict_on_batch(low_resolution_faces)\n",
    "        for index, img in enumerate(generated_images1):\n",
    "            save_images(low_resolution_images[index], high_resolution_images[index], img, path=\"/Your data dir/img1_{}_{}\".format(epoch, index))\n",
    "        for index, img in enumerate(generated_faces1):\n",
    "            save_images(low_resolution_faces[index], high_resolution_faces[index], img, path=\"/Your data dir/faces1_{}_{}\".format(epoch, index))"
   ]
  },
  {
   "cell_type": "code",
   "execution_count": null,
   "id": "boolean-colorado",
   "metadata": {},
   "outputs": [],
   "source": [
    "title=\"SRGAN-VGG19\"\n",
    "plot_loss(losses1, title)\n",
    "\n",
    "title=\"SRGAN-VGG19 - full images\"\n",
    "plot_psnr(psnr_1, title)\n",
    "plot_ssim(ssim_1, title)\n",
    "\n",
    "title=\"SRGAN-VGG19 - extracted images\"\n",
    "plot_psnr(psnr_1_faces, title)\n",
    "plot_ssim(ssim_1_faces, title)"
   ]
  },
  {
   "cell_type": "code",
   "execution_count": null,
   "id": "genuine-symposium",
   "metadata": {},
   "outputs": [],
   "source": [
    "## Experiment 2 - SRGAN-EfficientNet-B0 (imagenet weights)"
   ]
  },
  {
   "cell_type": "code",
   "execution_count": null,
   "id": "medical-booth",
   "metadata": {},
   "outputs": [],
   "source": [
    "## Let's substitute the SRGAN Feature Extractor from VGG-19 to EfficientNet-B0 with imagenet weights!"
   ]
  },
  {
   "cell_type": "code",
   "execution_count": null,
   "id": "dangerous-favorite",
   "metadata": {},
   "outputs": [],
   "source": [
    "## EfficientNet"
   ]
  },
  {
   "cell_type": "code",
   "execution_count": null,
   "id": "wrong-advisory",
   "metadata": {},
   "outputs": [],
   "source": [
    "## Discriminator 2"
   ]
  },
  {
   "cell_type": "code",
   "execution_count": null,
   "id": "constant-commodity",
   "metadata": {},
   "outputs": [],
   "source": [
    "def build_discriminator2():\n",
    "    ## Define hyper-parameters\n",
    "    leakyrelu_alpha = 0.2\n",
    "    momentum = 0.8\n",
    "    ## Dimentions correspond to HR - High Resolution\n",
    "    input_shape = (256, 256, 3)\n",
    "    ## Input layer for discriminator\n",
    "    input_layer = Input(shape=input_shape)\n",
    "    ## 8 convolutional layers with batch normalization\n",
    "    dis1 = Conv2D(filters=64, kernel_size=3, strides=1, padding='same')(input_layer)\n",
    "    dis1 = LeakyReLU(alpha=leakyrelu_alpha)(dis1)\n",
    "    \n",
    "    dis2 = Conv2D(filters=64, kernel_size=3, strides=2, padding='same')(dis1)\n",
    "    dis2 = LeakyReLU(alpha=leakyrelu_alpha)(dis2)\n",
    "    dis2 = BatchNormalization(momentum=momentum)(dis2)\n",
    "    \n",
    "    dis3 = Conv2D(filters=128, kernel_size=3, strides=1, padding='same')(dis2)\n",
    "    dis3 = LeakyReLU(alpha=leakyrelu_alpha)(dis3)\n",
    "    dis3 = BatchNormalization(momentum=momentum)(dis3)\n",
    "    \n",
    "    dis4 = Conv2D(filters=128, kernel_size=3, strides=2, padding='same')(dis3)\n",
    "    dis4 = LeakyReLU(alpha=leakyrelu_alpha)(dis4)\n",
    "    dis4 = BatchNormalization(momentum=0.8)(dis4)\n",
    "    \n",
    "    dis5 = Conv2D(256, kernel_size=3, strides=1, padding='same')(dis4)\n",
    "    dis5 = LeakyReLU(alpha=leakyrelu_alpha)(dis5)\n",
    "    dis5 = BatchNormalization(momentum=momentum)(dis5)\n",
    "    \n",
    "    dis6 = Conv2D(filters=256, kernel_size=3, strides=2, padding='same')(dis5)\n",
    "    dis6 = LeakyReLU(alpha=leakyrelu_alpha)(dis6)\n",
    "    dis6 = BatchNormalization(momentum=momentum)(dis6)\n",
    "    \n",
    "    dis7 = Conv2D(filters=512, kernel_size=3, strides=1, padding='same')(dis6)\n",
    "    dis7 = LeakyReLU(alpha=leakyrelu_alpha)(dis7)\n",
    "    dis7 = BatchNormalization(momentum=momentum)(dis7)\n",
    "    \n",
    "    dis8 = Conv2D(filters=512, kernel_size=3, strides=2, padding='same')(dis7)\n",
    "    dis8 = LeakyReLU(alpha=leakyrelu_alpha)(dis8)\n",
    "    dis8 = BatchNormalization(momentum=momentum)(dis8)\n",
    "    \n",
    "    ## Fully-connected layer\n",
    "    dis9 = Dense(units=1024)(dis8)\n",
    "    dis9 = LeakyReLU(alpha=0.2)(dis9)\n",
    "    \n",
    "    ## Last fully-connected layer - for classification\n",
    "    output = Dense(units=1, activation='sigmoid')(dis9)\n",
    "    \n",
    "    ## Model\n",
    "    model = Model(inputs=[input_layer], outputs=[output], name='discriminator')\n",
    "    return model"
   ]
  },
  {
   "cell_type": "code",
   "execution_count": null,
   "id": "white-picnic",
   "metadata": {},
   "outputs": [],
   "source": [
    "discriminator2 = build_discriminator2()\n",
    "discriminator2.trainable = True\n",
    "discriminator2.compile(loss='mse', optimizer=common_optimizer2, metrics=['accuracy'])"
   ]
  },
  {
   "cell_type": "code",
   "execution_count": null,
   "id": "through-african",
   "metadata": {},
   "outputs": [],
   "source": [
    "## Generator 2"
   ]
  },
  {
   "cell_type": "code",
   "execution_count": null,
   "id": "subsequent-delicious",
   "metadata": {},
   "outputs": [],
   "source": [
    "def build_generator2():\n",
    "    ## Use 16 residual blocks in generator\n",
    "    residual_blocks = 16\n",
    "    momentum = 0.8\n",
    "    \n",
    "    ## Dimension equals to LR - Low Resolution\n",
    "    input_shape = (64, 64, 3)\n",
    "    \n",
    "    ## Input layer for the generator network\n",
    "    input_layer = Input(shape=input_shape)\n",
    "    \n",
    "    ## Pre-residual block: convolutional layer before residual blocks\n",
    "    gen1 = Conv2D(filters=64, kernel_size=9, strides=1, padding='same', activation='relu')(input_layer)\n",
    "    \n",
    "    ## Add 16 residual blocks\n",
    "    res = residual_block(gen1)\n",
    "    for i in range(residual_blocks - 1):\n",
    "        res = residual_block(res)\n",
    "    \n",
    "    ## Post-residual block: convolutional layer and batch-norm layer after residual blocks\n",
    "    gen2 = Conv2D(filters=64, kernel_size=3, strides=1, padding='same')(res)\n",
    "    gen2 = BatchNormalization(momentum=momentum)(gen2)\n",
    "    \n",
    "    ## Take the sum of pre-residual block(gen1) and post-residual block(gen2)\n",
    "    gen3 = Add()([gen2, gen1])\n",
    "    \n",
    "    ## UpSampling: learning to increase dimensionality\n",
    "    gen4 = UpSampling2D(size=2)(gen3)\n",
    "    gen4 = Conv2D(filters=256, kernel_size=3, strides=1, padding='same')(gen4)\n",
    "    gen4 = Activation('relu')(gen4)\n",
    "    \n",
    "    ## UpSampling: learning to increase dimensionality\n",
    "    gen5 = UpSampling2D(size=2)(gen4)\n",
    "    gen5 = Conv2D(filters=256, kernel_size=3, strides=1, padding='same')(gen5)\n",
    "    gen5 = Activation('relu')(gen5)\n",
    "    \n",
    "    ## Convolution layer at the output\n",
    "    gen6 = Conv2D(filters=3, kernel_size=9, strides=1, padding='same')(gen5)\n",
    "    output = Activation('tanh')(gen6)\n",
    "    \n",
    "    ## Model\n",
    "    model = Model(inputs=[input_layer], outputs=[output], name='generator')\n",
    "    return model"
   ]
  },
  {
   "cell_type": "code",
   "execution_count": null,
   "id": "signed-robinson",
   "metadata": {},
   "outputs": [],
   "source": [
    "generator2 = build_generator2()"
   ]
  },
  {
   "cell_type": "code",
   "execution_count": null,
   "id": "concerned-shaft",
   "metadata": {},
   "outputs": [],
   "source": [
    "## Feature Extractor based on EfficientNet-B0 (imagenet weights)"
   ]
  },
  {
   "cell_type": "code",
   "execution_count": null,
   "id": "stock-point",
   "metadata": {},
   "outputs": [],
   "source": [
    "import efficientnet.keras as efn\n",
    "\n",
    "B0_base = efn.EfficientNetB0(weights='imagenet', include_top=False, input_shape=(256, 256, 3))\n",
    "B0_base.trainable = True\n",
    "\n",
    "plot_model(B0_base, to_file='B0_base1.png', show_shapes=True)\n",
    "Image(filename='B0_base1.png')"
   ]
  },
  {
   "cell_type": "code",
   "execution_count": null,
   "id": "happy-simulation",
   "metadata": {},
   "outputs": [],
   "source": [
    "def build_B0():\n",
    "    input_shape = (256, 256, 3)\n",
    "    B0_base.outputs = [B0_base.get_layer('block5a_expand_conv').output]\n",
    "    input_layer = Input(shape=input_shape)\n",
    "    features = B0_base(input_layer)\n",
    "    model = Model(inputs=[input_layer], outputs=[features])\n",
    "    return model\n",
    "B0 = build_B0()\n",
    "B0.trainable = False\n",
    "B0.compile(loss='mse', optimizer=common_optimizer3, metrics=['accuracy'])"
   ]
  },
  {
   "cell_type": "code",
   "execution_count": null,
   "id": "subjective-voice",
   "metadata": {},
   "outputs": [],
   "source": [
    "## SRGAN-EfficientNet-B0 (imagenet weights)"
   ]
  },
  {
   "attachments": {
    "image.png": {
     "image/png": "[encoded data removed]"
    }
   },
   "cell_type": "markdown",
   "id": "advised-worship",
   "metadata": {},
   "source": [
    "![image.png](attachment:image.png)"
   ]
  },
  {
   "cell_type": "code",
   "execution_count": null,
   "id": "exempt-hardwood",
   "metadata": {},
   "outputs": [],
   "source": [
    "## Build & compile SRGAN-EfficientNet-B0 (imagenet weights)"
   ]
  },
  {
   "cell_type": "code",
   "execution_count": null,
   "id": "trying-headline",
   "metadata": {},
   "outputs": [],
   "source": [
    "def build_adversarial_model_B0(generator2, discriminator2, B0):\n",
    "    ## Input layer for high-resolution images\n",
    "    input_high_resolution2 = Input(shape=high_resolution_shape)\n",
    "    \n",
    "    ## Input layer for low-resolution images\n",
    "    input_low_resolution2 = Input(shape=low_resolution_shape)\n",
    "    \n",
    "    ## Generate high-resolution images from low-resolution images\n",
    "    generated_high_resolution_images2 = generator2(input_low_resolution2)\n",
    "    \n",
    "    ## Extract feature maps from generated images\n",
    "    features2 = B0(generated_high_resolution_images2)\n",
    "    \n",
    "    ## Make a discriminator non-trainable\n",
    "    discriminator2.trainable = False\n",
    "    discriminator2.compile(loss='mse', optimizer=common_optimizer2, metrics=['accuracy'])\n",
    "    \n",
    "    ## Discriminator will give us a probability estimation for the generated high-resolution images\n",
    "    probs2 = discriminator2(generated_high_resolution_images2)\n",
    "    \n",
    "    ## Create and compile\n",
    "    adversarial_model2 = Model([input_low_resolution2, input_high_resolution2], [probs2, features2])\n",
    "    adversarial_model2.compile(loss=['binary_crossentropy', 'mse'], loss_weights=[1e-3, 1], optimizer=common_optimizer2)\n",
    "    return adversarial_model2"
   ]
  },
  {
   "cell_type": "code",
   "execution_count": null,
   "id": "remarkable-retreat",
   "metadata": {},
   "outputs": [],
   "source": [
    "adversarial_model_B0 = build_adversarial_model_B0(generator2, discriminator2, B0)"
   ]
  },
  {
   "cell_type": "code",
   "execution_count": null,
   "id": "unique-bishop",
   "metadata": {},
   "outputs": [],
   "source": [
    "## Training loop with SRGAN-EfficientNet-B0 (imagenet weights)"
   ]
  },
  {
   "cell_type": "code",
   "execution_count": null,
   "id": "lesbian-interaction",
   "metadata": {},
   "outputs": [],
   "source": [
    "psnr_2 = {'psnr_quality': []}\n",
    "psnr_2_faces = {'psnr_quality': []}\n",
    "\n",
    "ssim_2 = {'ssim_quality': []}\n",
    "ssim_2_faces = {'ssim_quality': []}\n",
    "\n",
    "losses2 = {\"d_history\":[], \"g_history\":[]}"
   ]
  },
  {
   "cell_type": "code",
   "execution_count": null,
   "id": "decimal-russell",
   "metadata": {},
   "outputs": [],
   "source": [
    "for epoch in range(epochs2):\n",
    "    d_history2 = []\n",
    "    g_history2 = []\n",
    "    ## Print(\"Epoch:{}\".format(epoch))\n",
    "    high_resolution_images, low_resolution_images, high_resolution_faces, low_resolution_faces = sample_images(data_dir=data_dir, batch_size=batch_size, low_resolution_shape=low_resolution_shape, high_resolution_shape=high_resolution_shape)\n",
    "    ## Normalize the images\n",
    "    high_resolution_images = high_resolution_images / 127.5 - 1.\n",
    "    low_resolution_images = low_resolution_images / 127.5 - 1.\n",
    "    high_resolution_faces = high_resolution_faces / 127.5 - 1.\n",
    "    low_resolution_faces = low_resolution_faces / 127.5 - 1.\n",
    "    ## Generate high-resolution images from low-resolution images\n",
    "    generated_high_resolution_images2 = generator2.predict(low_resolution_images)\n",
    "    generated_faces2 = generator2.predict(low_resolution_faces)\n",
    "    ## Generate a batch of true and fake labels\n",
    "    real_labels = np.ones((batch_size, 16, 16, 1))\n",
    "    fake_labels = np.zeros((batch_size, 16, 16, 1))\n",
    "    ## Train the discriminator on true and fake labels\n",
    "    d_loss_real2 = discriminator2.train_on_batch(high_resolution_images, real_labels)\n",
    "    d_loss_real2 = np.mean(d_loss_real2)\n",
    "    d_loss_fake2 = discriminator2.train_on_batch(generated_high_resolution_images2, fake_labels)\n",
    "    d_loss_fake2 = np.mean(d_loss_fake2)\n",
    "    ## Calculate total loss of discriminator as average loss on true and fake labels\n",
    "    d_loss2 = 0.5 * np.add(d_loss_real2, d_loss_fake2)\n",
    "    losses2['d_history'].append(d_loss2)\n",
    "    ## Print(\"D_loss_2:\", d_loss2)\n",
    "    ## Train the generator\n",
    "    ## Sample the batch with images\n",
    "    high_resolution_images, low_resolution_images, high_resolution_faces, low_resolution_faces = sample_images(data_dir=data_dir, batch_size=batch_size, low_resolution_shape=low_resolution_shape, high_resolution_shape=high_resolution_shape)\n",
    "    ## Normalize the images\n",
    "    high_resolution_images = high_resolution_images / 127.5 - 1.\n",
    "    low_resolution_images = low_resolution_images / 127.5 - 1.\n",
    "    high_resolution_faces = high_resolution_faces / 127.5 - 1.\n",
    "    low_resolution_faces = low_resolution_faces / 127.5 - 1.\n",
    "    ## Extract feature maps for true high-resolution images\n",
    "    image_features2 = B0.predict(high_resolution_images)\n",
    "    gfaces_loss2 = adversarial_model_B0.train_on_batch([low_resolution_images, high_resolution_images], [real_labels, image_features2])\n",
    "    losses2['g_history'].append(0.5 * (gfaces_loss2[1]))\n",
    "    ## Print( \"G_loss_2:\", 0.5 * (gfaces_loss2[1]) )\n",
    "    ## Calculate the psnr per generated and original image and add it to the list\n",
    "    ps_2 = calc_psnr(high_resolution_images, generated_high_resolution_images2)\n",
    "    ## Print(\"PSNR_2:\", np.mean(ps_2.numpy()))\n",
    "    psnr_2['psnr_quality'].append(ps_2)\n",
    "    ps_2 = calc_psnr(high_resolution_faces, generated_faces2)\n",
    "    psnr_2_faces['psnr_quality'].append(ps_2)\n",
    "    ## Calculate the ssim per generated and original image and add it to the list\n",
    "    ss_2 = calc_ssim(high_resolution_images, generated_high_resolution_images2)\n",
    "    ## Print(\"SSIM_2:\", np.mean(ss_2.numpy()))\n",
    "    ssim_2['ssim_quality'].append(ss_2)\n",
    "    ss_2 = calc_psnr(high_resolution_faces, generated_faces2)\n",
    "    ssim_2_faces['ssim_quality'].append(ss_2)\n",
    "    ## Save and print image samples\n",
    "    if (epoch == 50) or (epoch == 100) or (epoch == 150) or (epoch == 200) or (epoch == 250) or (epoch == 300) or (epoch == 350):\n",
    "        high_resolution_images, low_resolution_images, high_resolution_faces, low_resolution_faces = sample_images(data_dir=data_dir, batch_size=batch_size, low_resolution_shape=low_resolution_shape, high_resolution_shape=high_resolution_shape)\n",
    "        ## Normalize the images\n",
    "        high_resolution_images = high_resolution_images / 127.5 - 1.\n",
    "        low_resolution_images = low_resolution_images / 127.5 - 1.\n",
    "        high_resolution_faces = high_resolution_faces / 127.5 - 1.\n",
    "        low_resolution_faces = low_resolution_faces / 127.5 - 1.\n",
    "        generated_images2 = generator2.predict_on_batch(low_resolution_images)\n",
    "        generated_faces2 = generator2.predict_on_batch(low_resolution_faces)\n",
    "        for index, img in enumerate(generated_images2):\n",
    "            save_images(low_resolution_images[index], high_resolution_images[index], img, path=\"/Your data dir/img2_{}_{}\".format(epoch, index))\n",
    "        for index, img in enumerate(generated_faces2):\n",
    "            save_images(low_resolution_faces[index], high_resolution_faces[index], img, path=\"/Your data dir/faces2_{}_{}\".format(epoch, index))"
   ]
  },
  {
   "cell_type": "code",
   "execution_count": null,
   "id": "searching-printer",
   "metadata": {},
   "outputs": [],
   "source": [
    "title=\"SRGAN-EfficientNet-B0 (imagenet weights)\"\n",
    "plot_loss(losses2, title)\n",
    "\n",
    "title=\"SRGAN-EfficientNet-B0 (imagenet weights) - full images\"\n",
    "plot_psnr(psnr_2, title)\n",
    "plot_ssim(ssim_2, title)\n",
    "\n",
    "title=\"SRGAN-EfficientNet-B0 (imagenet weights) - extracted images\"\n",
    "plot_psnr(psnr_2_faces, title)\n",
    "plot_ssim(ssim_2_faces, title)"
   ]
  },
  {
   "cell_type": "code",
   "execution_count": null,
   "id": "embedded-scheme",
   "metadata": {},
   "outputs": [],
   "source": [
    "## Experiment 3 - SRGAN-EfficientNet-B0 (noisy-student)"
   ]
  },
  {
   "cell_type": "code",
   "execution_count": null,
   "id": "adjusted-nowhere",
   "metadata": {},
   "outputs": [],
   "source": [
    "## Discriminator 3"
   ]
  },
  {
   "cell_type": "code",
   "execution_count": null,
   "id": "systematic-glass",
   "metadata": {},
   "outputs": [],
   "source": [
    "def build_discriminator3():\n",
    "    ## Define hyper-parameters\n",
    "    leakyrelu_alpha = 0.2\n",
    "    momentum = 0.8\n",
    "    \n",
    "    ## Dimentions correspond to HR - High Resolution\n",
    "    input_shape = (256, 256, 3)\n",
    "    \n",
    "    ## Input layer for discriminator\n",
    "    input_layer = Input(shape=input_shape)\n",
    "    \n",
    "    ## 8 convolutional layers with batch normalization\n",
    "    dis1 = Conv2D(filters=64, kernel_size=3, strides=1, padding='same')(input_layer)\n",
    "    dis1 = LeakyReLU(alpha=leakyrelu_alpha)(dis1)\n",
    "    \n",
    "    dis2 = Conv2D(filters=64, kernel_size=3, strides=2, padding='same')(dis1)\n",
    "    dis2 = LeakyReLU(alpha=leakyrelu_alpha)(dis2)\n",
    "    dis2 = BatchNormalization(momentum=momentum)(dis2)\n",
    "    \n",
    "    dis3 = Conv2D(filters=128, kernel_size=3, strides=1, padding='same')(dis2)\n",
    "    dis3 = LeakyReLU(alpha=leakyrelu_alpha)(dis3)\n",
    "    dis3 = BatchNormalization(momentum=momentum)(dis3)\n",
    "    \n",
    "    dis4 = Conv2D(filters=128, kernel_size=3, strides=2, padding='same')(dis3)\n",
    "    dis4 = LeakyReLU(alpha=leakyrelu_alpha)(dis4)\n",
    "    dis4 = BatchNormalization(momentum=0.8)(dis4)\n",
    "    \n",
    "    dis5 = Conv2D(256, kernel_size=3, strides=1, padding='same')(dis4)\n",
    "    dis5 = LeakyReLU(alpha=leakyrelu_alpha)(dis5)\n",
    "    dis5 = BatchNormalization(momentum=momentum)(dis5)\n",
    "    \n",
    "    dis6 = Conv2D(filters=256, kernel_size=3, strides=2, padding='same')(dis5)\n",
    "    dis6 = LeakyReLU(alpha=leakyrelu_alpha)(dis6)\n",
    "    dis6 = BatchNormalization(momentum=momentum)(dis6)\n",
    "    \n",
    "    dis7 = Conv2D(filters=512, kernel_size=3, strides=1, padding='same')(dis6)\n",
    "    dis7 = LeakyReLU(alpha=leakyrelu_alpha)(dis7)\n",
    "    dis7 = BatchNormalization(momentum=momentum)(dis7)\n",
    "    \n",
    "    dis8 = Conv2D(filters=512, kernel_size=3, strides=2, padding='same')(dis7)\n",
    "    dis8 = LeakyReLU(alpha=leakyrelu_alpha)(dis8)\n",
    "    dis8 = BatchNormalization(momentum=momentum)(dis8)\n",
    "    \n",
    "    ## Fully-connected layer\n",
    "    dis9 = Dense(units=1024)(dis8)\n",
    "    dis9 = LeakyReLU(alpha=0.2)(dis9)\n",
    "    \n",
    "    ## Last fully-connected layer - for classification\n",
    "    output = Dense(units=1, activation='sigmoid')(dis9)\n",
    "    \n",
    "    ## Model\n",
    "    model = Model(inputs=[input_layer], outputs=[output], name='discriminator')\n",
    "    return model"
   ]
  },
  {
   "cell_type": "code",
   "execution_count": null,
   "id": "drawn-pressing",
   "metadata": {},
   "outputs": [],
   "source": [
    "discriminator3 = build_discriminator3()\n",
    "discriminator3.trainable = True\n",
    "discriminator3.compile(loss='mse', optimizer=common_optimizer3, metrics=['accuracy'])"
   ]
  },
  {
   "cell_type": "code",
   "execution_count": null,
   "id": "defined-geneva",
   "metadata": {},
   "outputs": [],
   "source": [
    "## Generator 3"
   ]
  },
  {
   "cell_type": "code",
   "execution_count": null,
   "id": "familiar-perry",
   "metadata": {},
   "outputs": [],
   "source": [
    "def build_generator3():\n",
    "    ## Use 16 residual blocks in generator\n",
    "    residual_blocks = 16\n",
    "    momentum = 0.8\n",
    "    \n",
    "    ## Dimension equals to LR - Low Resolution\n",
    "    input_shape = (64, 64, 3)\n",
    "    \n",
    "    ## Input layer for the generator network\n",
    "    input_layer = Input(shape=input_shape)\n",
    "    \n",
    "    ## Pre-residual block: convolutional layer before residual blocks\n",
    "    gen1 = Conv2D(filters=64, kernel_size=9, strides=1, padding='same', activation='relu')(input_layer)\n",
    "    \n",
    "    ## Add 16 residual blocks\n",
    "    res = residual_block(gen1)\n",
    "    for i in range(residual_blocks - 1):\n",
    "        res = residual_block(res)\n",
    "    \n",
    "    ## Post-residual block: convolutional layer and batch-norm layer after residual blocks\n",
    "    gen2 = Conv2D(filters=64, kernel_size=3, strides=1, padding='same')(res)\n",
    "    gen2 = BatchNormalization(momentum=momentum)(gen2)\n",
    "    gen2 = BatchNormalization(momentum=momentum)(gen2)\n",
    "    \n",
    "    ## Take the sum of pre-residual block(gen1) and post-residual block(gen2)\n",
    "    gen3 = Add()([gen2, gen1])\n",
    "    \n",
    "    # UpSampling: learning to increase dimensionality\n",
    "    gen4 = UpSampling2D(size=2)(gen3)\n",
    "    gen4 = Conv2D(filters=256, kernel_size=3, strides=1, padding='same')(gen4)\n",
    "    gen4 = Activation('relu')(gen4)\n",
    "    \n",
    "    # UpSampling: learning to increase dimensionality\n",
    "    gen5 = UpSampling2D(size=2)(gen4)\n",
    "    gen5 = Conv2D(filters=256, kernel_size=3, strides=1, padding='same')(gen5)\n",
    "    gen5 = Activation('relu')(gen5)\n",
    "    \n",
    "    ## Convolution layer at the output\n",
    "    gen6 = Conv2D(filters=3, kernel_size=9, strides=1, padding='same')(gen5)\n",
    "    output = Activation('tanh')(gen6)\n",
    "    \n",
    "    ## Model\n",
    "    model = Model(inputs=[input_layer], outputs=[output], name='generator')\n",
    "    return model"
   ]
  },
  {
   "cell_type": "code",
   "execution_count": null,
   "id": "infrared-olympus",
   "metadata": {},
   "outputs": [],
   "source": [
    "generator3 = build_generator3()"
   ]
  },
  {
   "cell_type": "code",
   "execution_count": null,
   "id": "julian-auditor",
   "metadata": {},
   "outputs": [],
   "source": [
    "## Feature Extractor based on EfficientNet-B0 (noisy-student weights)"
   ]
  },
  {
   "cell_type": "code",
   "execution_count": null,
   "id": "sitting-baseball",
   "metadata": {},
   "outputs": [],
   "source": [
    "B0ns_base = efn.EfficientNetB0(weights='noisy-student', include_top=False, input_shape=(256, 256, 3))\n",
    "B0ns_base.trainable = True"
   ]
  },
  {
   "cell_type": "code",
   "execution_count": null,
   "id": "heavy-commander",
   "metadata": {},
   "outputs": [],
   "source": [
    "def build_B0ns():\n",
    "    input_shape = (256, 256, 3)\n",
    "    B0ns_base.outputs = [B0ns_base.get_layer('block5a_expand_conv').output]\n",
    "    input_layer = Input(shape=input_shape)\n",
    "    features = B0ns_base(input_layer)\n",
    "    model = Model(inputs=[input_layer], outputs=[features])\n",
    "    return model\n",
    "B0ns = build_B0ns()\n",
    "B0ns.trainable = False\n",
    "B0ns.compile(loss='mse', optimizer=common_optimizer3, metrics=['accuracy'])"
   ]
  },
  {
   "cell_type": "code",
   "execution_count": null,
   "id": "african-scientist",
   "metadata": {},
   "outputs": [],
   "source": [
    "## SRGAN-EfficientNet-B0 (noisy-student weights)"
   ]
  },
  {
   "attachments": {
    "image.png": {
     "image/png": "[encoded data removed]"
    }
   },
   "cell_type": "markdown",
   "id": "invisible-excerpt",
   "metadata": {},
   "source": [
    "![image.png](attachment:image.png)\n",
    "Figure - SRGAN_EfficientNet-B0 Conceptual Architecture"
   ]
  },
  {
   "cell_type": "code",
   "execution_count": null,
   "id": "concrete-spine",
   "metadata": {},
   "outputs": [],
   "source": [
    "## Build & compile SRGAN-EfficientNet-B0 (noisy-student weights)"
   ]
  },
  {
   "cell_type": "code",
   "execution_count": null,
   "id": "potential-locking",
   "metadata": {},
   "outputs": [],
   "source": [
    "def build_adversarial_model_B0ns(generator3, discriminator3, B0):\n",
    "    ## Input layer for high-resolution images\n",
    "    input_high_resolution3 = Input(shape=high_resolution_shape)\n",
    "    \n",
    "    ## Input layer for low-resolution images\n",
    "    input_low_resolution3 = Input(shape=low_resolution_shape)\n",
    "    \n",
    "    ## Generate high-resolution images from low-resolution images\n",
    "    generated_high_resolution_images3 = generator3(input_low_resolution3)\n",
    "    \n",
    "    ## Extract feature maps from generated images\n",
    "    features3 = B0ns(generated_high_resolution_images3)\n",
    "    \n",
    "    ## Make a discriminator non-trainable\n",
    "    discriminator3.trainable = False\n",
    "    discriminator3.compile(loss='mse', optimizer=common_optimizer3, metrics=['accuracy'])\n",
    "    \n",
    "    ## Discriminator will give us a probability estimation for the generated high-resolution images\n",
    "    probs3 = discriminator3(generated_high_resolution_images3)\n",
    "    \n",
    "    ## Create and compile\n",
    "    adversarial_model3 = Model([input_low_resolution3, input_high_resolution3], [probs3, features3])\n",
    "    adversarial_model3.compile(loss=['binary_crossentropy', 'mse'], loss_weights=[1e-3, 1], optimizer=common_optimizer3)\n",
    "    return adversarial_model3"
   ]
  },
  {
   "cell_type": "code",
   "execution_count": null,
   "id": "relevant-filing",
   "metadata": {},
   "outputs": [],
   "source": [
    "adversarial_model_B0ns = build_adversarial_model_B0ns(generator3, discriminator3, B0ns)"
   ]
  },
  {
   "cell_type": "code",
   "execution_count": null,
   "id": "defensive-young",
   "metadata": {},
   "outputs": [],
   "source": [
    "## Training loop with SRGAN-EfficientNet-B0 (noisy-student weights)"
   ]
  },
  {
   "cell_type": "code",
   "execution_count": null,
   "id": "emotional-monaco",
   "metadata": {},
   "outputs": [],
   "source": [
    "psnr_3 = {'psnr_quality': []}\n",
    "psnr_3_faces = {'psnr_quality': []}\n",
    "\n",
    "ssim_3 = {'ssim_quality': []}\n",
    "ssim_3_faces = {'ssim_quality': []}\n",
    "\n",
    "losses3 = {\"d_history\":[], \"g_history\":[]}"
   ]
  },
  {
   "cell_type": "code",
   "execution_count": null,
   "id": "acute-bunny",
   "metadata": {},
   "outputs": [],
   "source": [
    "for epoch in range(epochs3):\n",
    "    d_history3 = []\n",
    "    g_history3 = []    \n",
    "    ## Print(\"Epoch:{}\".format(epoch))\n",
    "    high_resolution_images, low_resolution_images, high_resolution_faces, low_resolution_faces = sample_images(data_dir=data_dir, batch_size=batch_size, low_resolution_shape=low_resolution_shape, high_resolution_shape=high_resolution_shape)\n",
    "    ## Normalize the images\n",
    "    high_resolution_images = high_resolution_images / 127.5 - 1.\n",
    "    low_resolution_images = low_resolution_images / 127.5 - 1.\n",
    "    high_resolution_faces = high_resolution_faces / 127.5 - 1.\n",
    "    low_resolution_faces = low_resolution_faces / 127.5 - 1.\n",
    "    ## Generate high-resolution images from low-resolution images\n",
    "    generated_high_resolution_images3 = generator3.predict(low_resolution_images)\n",
    "    generated_faces3 = generator3.predict(low_resolution_faces)\n",
    "    ## Generate a batch of true and fake labels\n",
    "    real_labels = np.ones((batch_size, 16, 16, 1))\n",
    "    fake_labels = np.zeros((batch_size, 16, 16, 1))\n",
    "    ## Train the discriminator on true and fake labels\n",
    "    d_loss_real3 = discriminator3.train_on_batch(high_resolution_images, real_labels)\n",
    "    d_loss_real3 = np.mean(d_loss_real3)\n",
    "    d_loss_fake3 = discriminator3.train_on_batch(generated_high_resolution_images3, fake_labels)\n",
    "    d_loss_fake3 = np.mean(d_loss_fake3)\n",
    "    ## Calculate total loss of discriminator as average loss on true and fake labels\n",
    "    d_loss3 = 0.5 * np.add(d_loss_real3, d_loss_fake3)\n",
    "    losses3['d_history'].append(d_loss3)\n",
    "    ## Print(\"D_loss_3:\", d_loss3)\n",
    "    ## Train the generator\n",
    "    ## Sample the batch with images\n",
    "    high_resolution_images, low_resolution_images, high_resolution_faces, low_resolution_faces = sample_images(data_dir=data_dir, batch_size=batch_size, low_resolution_shape=low_resolution_shape, high_resolution_shape=high_resolution_shape)\n",
    "    ## Normalize the images\n",
    "    high_resolution_images = high_resolution_images / 127.5 - 1.\n",
    "    low_resolution_images = low_resolution_images / 127.5 - 1.\n",
    "    high_resolution_faces = high_resolution_faces / 127.5 - 1.\n",
    "    low_resolution_faces = low_resolution_faces / 127.5 - 1.\n",
    "    ## Extract feature maps for true high-resolution images\n",
    "    image_features3 = B0ns.predict(high_resolution_images)\n",
    "    gfaces_loss3 = adversarial_model_B0ns.train_on_batch([low_resolution_images, high_resolution_images],[real_labels, image_features3])\n",
    "    losses3['g_history'].append(0.5 * (gfaces_loss3[1]))\n",
    "    ## Print( \"G_loss_3:\", 0.5 * (gfaces_loss3[1]) )\n",
    "    ## Calculate the psnr per generated and original image and add it to the list\n",
    "    ps_3 = calc_psnr(high_resolution_images, generated_high_resolution_images3)\n",
    "    ## Print(\"PSNR_3:\", np.mean(ps_3.numpy()))\n",
    "    psnr_3['psnr_quality'].append(ps_3)\n",
    "    ps_3 = calc_psnr(high_resolution_faces, generated_faces3)\n",
    "    psnr_3_faces['psnr_quality'].append(ps_3)\n",
    "    ## Calculate the ssim per generated and original image and add it to the list\n",
    "    ss_3 = calc_ssim(high_resolution_images, generated_high_resolution_images3)\n",
    "    ## Print(\"SSIM_3:\", np.mean(ss_3.numpy()))\n",
    "    ssim_3['ssim_quality'].append(ss_3)\n",
    "    ss_3 = calc_psnr(high_resolution_faces, generated_faces3)\n",
    "    ssim_3_faces['ssim_quality'].append(ss_3)\n",
    "    ## Save and print image samples\n",
    "    if (epoch == 50) or (epoch == 100) or (epoch == 150) or (epoch == 200) or (epoch == 250) or (epoch == 300) or (epoch == 350):\n",
    "        high_resolution_images, low_resolution_images, high_resolution_faces, low_resolution_faces = sample_images(data_dir=data_dir, batch_size=batch_size, low_resolution_shape=low_resolution_shape, high_resolution_shape=high_resolution_shape)\n",
    "        ## Normalize the images\n",
    "        high_resolution_images = high_resolution_images / 127.5 - 1.\n",
    "        low_resolution_images = low_resolution_images / 127.5 - 1.\n",
    "        high_resolution_faces = high_resolution_faces / 127.5 - 1.\n",
    "        low_resolution_faces = low_resolution_faces / 127.5 - 1.\n",
    "        generated_images3 = generator3.predict_on_batch(low_resolution_images)\n",
    "        generated_faces3 = generator3.predict_on_batch(low_resolution_faces)\n",
    "        for index, img in enumerate(generated_images3):\n",
    "            save_images(low_resolution_images[index], high_resolution_images[index], img, path=\"/Your data dir/img3_{}_{}\".format(epoch, index))\n",
    "        for index, img in enumerate(generated_faces3):\n",
    "            save_images(low_resolution_faces[index], high_resolution_faces[index], img, path=\"/Your data dir/faces3_{}_{}\".format(epoch, index))"
   ]
  },
  {
   "cell_type": "code",
   "execution_count": null,
   "id": "stable-scene",
   "metadata": {},
   "outputs": [],
   "source": [
    "title=\"SRGAN-EfficientNet-B0 (noisy-student weights)\"\n",
    "plot_loss(losses3, title)\n",
    "\n",
    "title=\"SRGAN-EfficientNet-B0 (noisy-student weights) - full images\"\n",
    "plot_psnr(psnr_3, title)\n",
    "plot_ssim(ssim_3, title)\n",
    "\n",
    "title=\"SRGAN-EfficientNet-B0 (noisy-student weights) - extracted images\"\n",
    "plot_psnr(psnr_3_faces, title)\n",
    "plot_ssim(ssim_3_faces, title)"
   ]
  },
  {
   "cell_type": "code",
   "execution_count": null,
   "id": "continental-passenger",
   "metadata": {},
   "outputs": [],
   "source": [
    "## Save models weights"
   ]
  },
  {
   "cell_type": "code",
   "execution_count": null,
   "id": "latest-interview",
   "metadata": {},
   "outputs": [],
   "source": [
    "generator1.save_weights(\"/Your data dir/generator1.h5\")\n",
    "discriminator1.save_weights(\"/Your data dir/discriminator1.h5\")"
   ]
  },
  {
   "cell_type": "code",
   "execution_count": null,
   "id": "english-klein",
   "metadata": {},
   "outputs": [],
   "source": [
    "generator2.save_weights(\"/Your data dir/generator2.h5\")\n",
    "discriminator2.save_weights(\"/Your data dir/discriminator2.h5\")"
   ]
  },
  {
   "cell_type": "code",
   "execution_count": null,
   "id": "architectural-measurement",
   "metadata": {},
   "outputs": [],
   "source": [
    "generator3.save_weights(\"/Your data dir/generator3.h5\")\n",
    "discriminator3.save_weights(\"/Your data dir/discriminator3.h5\")"
   ]
  },
  {
   "cell_type": "code",
   "execution_count": null,
   "id": "starting-dream",
   "metadata": {},
   "outputs": [],
   "source": [
    "## SRGAN-VGG19 + SRGAN-EfficientNet-B0 plots"
   ]
  },
  {
   "cell_type": "code",
   "execution_count": null,
   "id": "quiet-malaysia",
   "metadata": {},
   "outputs": [],
   "source": [
    "title1=\"SRGAN-VGG19\"\n",
    "title2=\"SRGAN-EfficientNet-B0 with imagenet weights\"\n",
    "title3=\"SRGAN-EfficientNet-B0 with noisy-student weights\"\n",
    "\n",
    "plot_loss12(losses1, losses2, title1, title2)\n",
    "plot_loss12(losses1, losses3, title1, title3)\n",
    "plot_loss12(losses2, losses3, title2, title3)\n",
    "\n",
    "plot_loss123(losses1, losses2, losses3, title1, title2, title3)"
   ]
  },
  {
   "cell_type": "code",
   "execution_count": null,
   "id": "composite-nation",
   "metadata": {},
   "outputs": [],
   "source": [
    "title1=\"SRGAN-VGG19 - full images\"\n",
    "title2=\"SRGAN-EfficientNet-B0 with imagenet weights - full images\"\n",
    "title3=\"SRGAN-EfficientNet-B0 with noisy-student weights - full images\"\n",
    "\n",
    "plot_psnr12(psnr_1, psnr_2, title1, title2)\n",
    "plot_ssim12(ssim_1, ssim_2, title1, title2)\n",
    "\n",
    "plot_psnr12(psnr_1, psnr_3, title1, title3)\n",
    "plot_ssim12(ssim_1, ssim_3, title1, title3)\n",
    "\n",
    "plot_psnr12(psnr_2, psnr_3, title2, title3)\n",
    "plot_ssim12(ssim_2, ssim_3, title2, title3)\n",
    "\n",
    "plot_psnr123(psnr_1, psnr_2, psnr_3, title1, title2, title3)\n",
    "plot_ssim123(ssim_1, ssim_2, ssim_3, title1, title2, title3)"
   ]
  },
  {
   "cell_type": "code",
   "execution_count": null,
   "id": "basic-attention",
   "metadata": {
    "scrolled": false
   },
   "outputs": [],
   "source": [
    "title1=\"SRGAN-VGG19 - extracted images\"\n",
    "title2=\"SRGAN-EfficientNet-B0 with imagenet weights - extracted images\"\n",
    "title3=\"SRGAN-EfficientNet-B0 with noisy-student weights - extracted images\"\n",
    "\n",
    "plot_psnr12(psnr_1_faces, psnr_2_faces, title1, title2)\n",
    "plot_ssim12(ssim_1_faces, ssim_2_faces, title1, title2)\n",
    "\n",
    "plot_psnr12(psnr_1_faces, psnr_3_faces, title1, title3)\n",
    "plot_ssim12(ssim_1_faces, ssim_3_faces, title1, title3)\n",
    "\n",
    "plot_psnr12(psnr_2_faces, psnr_3_faces, title2, title3)\n",
    "plot_ssim12(ssim_2_faces, ssim_3_faces, title2, title3)\n",
    "\n",
    "plot_psnr123(psnr_1_faces, psnr_2_faces, psnr_3_faces, title1, title2, title3)\n",
    "plot_ssim123(ssim_1_faces, ssim_2_faces, ssim_3_faces, title1, title2, title3)"
   ]
  },
  {
   "cell_type": "code",
   "execution_count": null,
   "id": "local-thomas",
   "metadata": {},
   "outputs": [],
   "source": [
    "## The end"
   ]
  }
 ],
 "metadata": {
  "kernelspec": {
   "display_name": "Python 3",
   "language": "python",
   "name": "python3"
  },
  "language_info": {
   "codemirror_mode": {
    "name": "ipython",
    "version": 3
   },
   "file_extension": ".py",
   "mimetype": "text/x-python",
   "name": "python",
   "nbconvert_exporter": "python",
   "pygments_lexer": "ipython3",
   "version": "3.7.6"
  }
 },
 "nbformat": 4,
 "nbformat_minor": 5
}
